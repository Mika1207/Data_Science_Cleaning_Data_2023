{
 "cells": [
  {
   "cell_type": "markdown",
   "metadata": {},
   "source": [
    "# Data Science Project\n",
    "\n",
    "In this notebook we will explore a dataset about the used cars in the Indian Market\n"
   ]
  },
  {
   "cell_type": "markdown",
   "metadata": {},
   "source": [
    "# Import Libraries\n",
    "\n",
    "I'll import ***datetime*** to manipulate the dataset, ***numpy*** to work with arrays and ***pandas*** to read in the dataset files, ***matplotlib*** & ***seaborn*** for plotting and showing results with graph. I'll also import ***os*** to manipulate the files and ***Modules*** to clean the data."
   ]
  },
  {
   "cell_type": "code",
   "execution_count": 6,
   "metadata": {},
   "outputs": [],
   "source": [
    "import pandas as pd\n",
    "import numpy as np \n",
    "import matplotlib.pyplot as plt\n",
    "import seaborn as sns\n",
    "from datetime import datetime\n",
    "import os\n",
    "from Modules.Module_1 import *\n"
   ]
  },
  {
   "cell_type": "code",
   "execution_count": 7,
   "metadata": {},
   "outputs": [
    {
     "data": {
      "text/html": [
       "<div>\n",
       "<style scoped>\n",
       "    .dataframe tbody tr th:only-of-type {\n",
       "        vertical-align: middle;\n",
       "    }\n",
       "\n",
       "    .dataframe tbody tr th {\n",
       "        vertical-align: top;\n",
       "    }\n",
       "\n",
       "    .dataframe thead th {\n",
       "        text-align: right;\n",
       "    }\n",
       "</style>\n",
       "<table border=\"1\" class=\"dataframe\">\n",
       "  <thead>\n",
       "    <tr style=\"text-align: right;\">\n",
       "      <th></th>\n",
       "      <th>MANUFACTURER</th>\n",
       "      <th>MODELE</th>\n",
       "      <th>ENGINE</th>\n",
       "      <th>FUEL</th>\n",
       "      <th>MAX_POWER</th>\n",
       "      <th>SELLING_PRICE_USD</th>\n",
       "      <th>TRANSMISSION</th>\n",
       "      <th>YEAR</th>\n",
       "      <th>SELLING_PRICE</th>\n",
       "      <th>KM_DRIVEN</th>\n",
       "      <th>CAR_AGE</th>\n",
       "      <th>MILEAGE</th>\n",
       "      <th>SEATS</th>\n",
       "    </tr>\n",
       "  </thead>\n",
       "  <tbody>\n",
       "    <tr>\n",
       "      <th>0</th>\n",
       "      <td>Maruti</td>\n",
       "      <td>Swift Dzire VDI</td>\n",
       "      <td>1248 CC</td>\n",
       "      <td>Diesel</td>\n",
       "      <td>74 bhp</td>\n",
       "      <td>5357.142857</td>\n",
       "      <td>Manual</td>\n",
       "      <td>2014</td>\n",
       "      <td>450000</td>\n",
       "      <td>145500</td>\n",
       "      <td>9</td>\n",
       "      <td>23.4 kmpl</td>\n",
       "      <td>5.0</td>\n",
       "    </tr>\n",
       "    <tr>\n",
       "      <th>1</th>\n",
       "      <td>Skoda</td>\n",
       "      <td>Rapid 1.5 TDI Ambition</td>\n",
       "      <td>1498 CC</td>\n",
       "      <td>Diesel</td>\n",
       "      <td>103.52 bhp</td>\n",
       "      <td>4404.761905</td>\n",
       "      <td>Manual</td>\n",
       "      <td>2014</td>\n",
       "      <td>370000</td>\n",
       "      <td>120000</td>\n",
       "      <td>9</td>\n",
       "      <td>21.14 kmpl</td>\n",
       "      <td>5.0</td>\n",
       "    </tr>\n",
       "    <tr>\n",
       "      <th>2</th>\n",
       "      <td>Honda</td>\n",
       "      <td>City 2017-2020 EXi</td>\n",
       "      <td>1497 CC</td>\n",
       "      <td>Petrol</td>\n",
       "      <td>78 bhp</td>\n",
       "      <td>1880.952381</td>\n",
       "      <td>Manual</td>\n",
       "      <td>2006</td>\n",
       "      <td>158000</td>\n",
       "      <td>140000</td>\n",
       "      <td>17</td>\n",
       "      <td>17.7 kmpl</td>\n",
       "      <td>5.0</td>\n",
       "    </tr>\n",
       "    <tr>\n",
       "      <th>3</th>\n",
       "      <td>Hyundai</td>\n",
       "      <td>i20 Sportz Diesel</td>\n",
       "      <td>1396 CC</td>\n",
       "      <td>Diesel</td>\n",
       "      <td>90 bhp</td>\n",
       "      <td>2678.571429</td>\n",
       "      <td>Manual</td>\n",
       "      <td>2010</td>\n",
       "      <td>225000</td>\n",
       "      <td>127000</td>\n",
       "      <td>13</td>\n",
       "      <td>23.0 kmpl</td>\n",
       "      <td>5.0</td>\n",
       "    </tr>\n",
       "    <tr>\n",
       "      <th>4</th>\n",
       "      <td>Maruti</td>\n",
       "      <td>Swift VXI BSIII</td>\n",
       "      <td>1298 CC</td>\n",
       "      <td>Petrol</td>\n",
       "      <td>88.2 bhp</td>\n",
       "      <td>1547.619048</td>\n",
       "      <td>Manual</td>\n",
       "      <td>2007</td>\n",
       "      <td>130000</td>\n",
       "      <td>120000</td>\n",
       "      <td>16</td>\n",
       "      <td>16.1 kmpl</td>\n",
       "      <td>5.0</td>\n",
       "    </tr>\n",
       "  </tbody>\n",
       "</table>\n",
       "</div>"
      ],
      "text/plain": [
       "  MANUFACTURER                  MODELE   ENGINE    FUEL   MAX_POWER  \\\n",
       "0       Maruti         Swift Dzire VDI  1248 CC  Diesel      74 bhp   \n",
       "1        Skoda  Rapid 1.5 TDI Ambition  1498 CC  Diesel  103.52 bhp   \n",
       "2        Honda      City 2017-2020 EXi  1497 CC  Petrol      78 bhp   \n",
       "3      Hyundai       i20 Sportz Diesel  1396 CC  Diesel      90 bhp   \n",
       "4       Maruti         Swift VXI BSIII  1298 CC  Petrol    88.2 bhp   \n",
       "\n",
       "   SELLING_PRICE_USD TRANSMISSION  YEAR  SELLING_PRICE  KM_DRIVEN  CAR_AGE  \\\n",
       "0        5357.142857       Manual  2014         450000     145500        9   \n",
       "1        4404.761905       Manual  2014         370000     120000        9   \n",
       "2        1880.952381       Manual  2006         158000     140000       17   \n",
       "3        2678.571429       Manual  2010         225000     127000       13   \n",
       "4        1547.619048       Manual  2007         130000     120000       16   \n",
       "\n",
       "      MILEAGE  SEATS  \n",
       "0   23.4 kmpl    5.0  \n",
       "1  21.14 kmpl    5.0  \n",
       "2   17.7 kmpl    5.0  \n",
       "3   23.0 kmpl    5.0  \n",
       "4   16.1 kmpl    5.0  "
      ]
     },
     "execution_count": 7,
     "metadata": {},
     "output_type": "execute_result"
    }
   ],
   "source": [
    "car = read_Csv_Jupyter('Car_Cleaned_1.csv')\n",
    "car.head()"
   ]
  },
  {
   "cell_type": "markdown",
   "metadata": {},
   "source": [
    "# Read dataset \n",
    "\n",
    "Read the cleaned file to see all the raw data\n"
   ]
  },
  {
   "cell_type": "markdown",
   "metadata": {},
   "source": [
    "# Example without read_Csv_Jupyter"
   ]
  },
  {
   "cell_type": "code",
   "execution_count": 8,
   "metadata": {},
   "outputs": [
    {
     "data": {
      "text/html": [
       "<div>\n",
       "<style scoped>\n",
       "    .dataframe tbody tr th:only-of-type {\n",
       "        vertical-align: middle;\n",
       "    }\n",
       "\n",
       "    .dataframe tbody tr th {\n",
       "        vertical-align: top;\n",
       "    }\n",
       "\n",
       "    .dataframe thead th {\n",
       "        text-align: right;\n",
       "    }\n",
       "</style>\n",
       "<table border=\"1\" class=\"dataframe\">\n",
       "  <thead>\n",
       "    <tr style=\"text-align: right;\">\n",
       "      <th></th>\n",
       "      <th>name</th>\n",
       "      <th>year</th>\n",
       "      <th>selling_price</th>\n",
       "      <th>km_driven</th>\n",
       "      <th>fuel</th>\n",
       "      <th>seller_type</th>\n",
       "      <th>transmission</th>\n",
       "      <th>owner</th>\n",
       "      <th>mileage</th>\n",
       "      <th>engine</th>\n",
       "      <th>max_power</th>\n",
       "      <th>torque</th>\n",
       "      <th>seats</th>\n",
       "    </tr>\n",
       "  </thead>\n",
       "  <tbody>\n",
       "    <tr>\n",
       "      <th>0</th>\n",
       "      <td>Maruti Swift Dzire VDI</td>\n",
       "      <td>2014</td>\n",
       "      <td>450000</td>\n",
       "      <td>145500</td>\n",
       "      <td>Diesel</td>\n",
       "      <td>Individual</td>\n",
       "      <td>Manual</td>\n",
       "      <td>First Owner</td>\n",
       "      <td>23.4 kmpl</td>\n",
       "      <td>1248 CC</td>\n",
       "      <td>74 bhp</td>\n",
       "      <td>190Nm@ 2000rpm</td>\n",
       "      <td>5.0</td>\n",
       "    </tr>\n",
       "    <tr>\n",
       "      <th>1</th>\n",
       "      <td>Skoda Rapid 1.5 TDI Ambition</td>\n",
       "      <td>2014</td>\n",
       "      <td>370000</td>\n",
       "      <td>120000</td>\n",
       "      <td>Diesel</td>\n",
       "      <td>Individual</td>\n",
       "      <td>Manual</td>\n",
       "      <td>Second Owner</td>\n",
       "      <td>21.14 kmpl</td>\n",
       "      <td>1498 CC</td>\n",
       "      <td>103.52 bhp</td>\n",
       "      <td>250Nm@ 1500-2500rpm</td>\n",
       "      <td>5.0</td>\n",
       "    </tr>\n",
       "    <tr>\n",
       "      <th>2</th>\n",
       "      <td>Honda City 2017-2020 EXi</td>\n",
       "      <td>2006</td>\n",
       "      <td>158000</td>\n",
       "      <td>140000</td>\n",
       "      <td>Petrol</td>\n",
       "      <td>Individual</td>\n",
       "      <td>Manual</td>\n",
       "      <td>Third Owner</td>\n",
       "      <td>17.7 kmpl</td>\n",
       "      <td>1497 CC</td>\n",
       "      <td>78 bhp</td>\n",
       "      <td>12.7@ 2,700(kgm@ rpm)</td>\n",
       "      <td>5.0</td>\n",
       "    </tr>\n",
       "    <tr>\n",
       "      <th>3</th>\n",
       "      <td>Hyundai i20 Sportz Diesel</td>\n",
       "      <td>2010</td>\n",
       "      <td>225000</td>\n",
       "      <td>127000</td>\n",
       "      <td>Diesel</td>\n",
       "      <td>Individual</td>\n",
       "      <td>Manual</td>\n",
       "      <td>First Owner</td>\n",
       "      <td>23.0 kmpl</td>\n",
       "      <td>1396 CC</td>\n",
       "      <td>90 bhp</td>\n",
       "      <td>22.4 kgm at 1750-2750rpm</td>\n",
       "      <td>5.0</td>\n",
       "    </tr>\n",
       "    <tr>\n",
       "      <th>4</th>\n",
       "      <td>Maruti Swift VXI BSIII</td>\n",
       "      <td>2007</td>\n",
       "      <td>130000</td>\n",
       "      <td>120000</td>\n",
       "      <td>Petrol</td>\n",
       "      <td>Individual</td>\n",
       "      <td>Manual</td>\n",
       "      <td>First Owner</td>\n",
       "      <td>16.1 kmpl</td>\n",
       "      <td>1298 CC</td>\n",
       "      <td>88.2 bhp</td>\n",
       "      <td>11.5@ 4,500(kgm@ rpm)</td>\n",
       "      <td>5.0</td>\n",
       "    </tr>\n",
       "  </tbody>\n",
       "</table>\n",
       "</div>"
      ],
      "text/plain": [
       "                           name  year  selling_price  km_driven    fuel  \\\n",
       "0        Maruti Swift Dzire VDI  2014         450000     145500  Diesel   \n",
       "1  Skoda Rapid 1.5 TDI Ambition  2014         370000     120000  Diesel   \n",
       "2      Honda City 2017-2020 EXi  2006         158000     140000  Petrol   \n",
       "3     Hyundai i20 Sportz Diesel  2010         225000     127000  Diesel   \n",
       "4        Maruti Swift VXI BSIII  2007         130000     120000  Petrol   \n",
       "\n",
       "  seller_type transmission         owner     mileage   engine   max_power  \\\n",
       "0  Individual       Manual   First Owner   23.4 kmpl  1248 CC      74 bhp   \n",
       "1  Individual       Manual  Second Owner  21.14 kmpl  1498 CC  103.52 bhp   \n",
       "2  Individual       Manual   Third Owner   17.7 kmpl  1497 CC      78 bhp   \n",
       "3  Individual       Manual   First Owner   23.0 kmpl  1396 CC      90 bhp   \n",
       "4  Individual       Manual   First Owner   16.1 kmpl  1298 CC    88.2 bhp   \n",
       "\n",
       "                     torque  seats  \n",
       "0            190Nm@ 2000rpm    5.0  \n",
       "1       250Nm@ 1500-2500rpm    5.0  \n",
       "2     12.7@ 2,700(kgm@ rpm)    5.0  \n",
       "3  22.4 kgm at 1750-2750rpm    5.0  \n",
       "4     11.5@ 4,500(kgm@ rpm)    5.0  "
      ]
     },
     "execution_count": 8,
     "metadata": {},
     "output_type": "execute_result"
    }
   ],
   "source": [
    "car_cleaned = pd.read_csv('data_cleaned/Car_cleaned_1.csv')\n",
    "car_cleaned.head()\n"
   ]
  },
  {
   "cell_type": "code",
   "execution_count": 9,
   "metadata": {},
   "outputs": [
    {
     "data": {
      "text/html": [
       "<div>\n",
       "<style scoped>\n",
       "    .dataframe tbody tr th:only-of-type {\n",
       "        vertical-align: middle;\n",
       "    }\n",
       "\n",
       "    .dataframe tbody tr th {\n",
       "        vertical-align: top;\n",
       "    }\n",
       "\n",
       "    .dataframe thead th {\n",
       "        text-align: right;\n",
       "    }\n",
       "</style>\n",
       "<table border=\"1\" class=\"dataframe\">\n",
       "  <thead>\n",
       "    <tr style=\"text-align: right;\">\n",
       "      <th></th>\n",
       "      <th>MANUFACTURER</th>\n",
       "      <th>MODELE</th>\n",
       "      <th>ENGINE</th>\n",
       "      <th>FUEL</th>\n",
       "      <th>MAX_POWER</th>\n",
       "      <th>SELLING_PRICE_USD</th>\n",
       "      <th>TRANSMISSION</th>\n",
       "      <th>YEAR</th>\n",
       "      <th>SELLING_PRICE</th>\n",
       "      <th>KM_DRIVEN</th>\n",
       "      <th>CAR_AGE</th>\n",
       "      <th>MILEAGE</th>\n",
       "      <th>SEATS</th>\n",
       "    </tr>\n",
       "  </thead>\n",
       "  <tbody>\n",
       "    <tr>\n",
       "      <th>0</th>\n",
       "      <td>Maruti</td>\n",
       "      <td>Swift Dzire VDI</td>\n",
       "      <td>1248 CC</td>\n",
       "      <td>Diesel</td>\n",
       "      <td>74 bhp</td>\n",
       "      <td>5357.142857</td>\n",
       "      <td>Manual</td>\n",
       "      <td>2014</td>\n",
       "      <td>450000</td>\n",
       "      <td>145500</td>\n",
       "      <td>9</td>\n",
       "      <td>23.4 kmpl</td>\n",
       "      <td>5.0</td>\n",
       "    </tr>\n",
       "    <tr>\n",
       "      <th>1</th>\n",
       "      <td>Skoda</td>\n",
       "      <td>Rapid 1.5 TDI Ambition</td>\n",
       "      <td>1498 CC</td>\n",
       "      <td>Diesel</td>\n",
       "      <td>103.52 bhp</td>\n",
       "      <td>4404.761905</td>\n",
       "      <td>Manual</td>\n",
       "      <td>2014</td>\n",
       "      <td>370000</td>\n",
       "      <td>120000</td>\n",
       "      <td>9</td>\n",
       "      <td>21.14 kmpl</td>\n",
       "      <td>5.0</td>\n",
       "    </tr>\n",
       "    <tr>\n",
       "      <th>2</th>\n",
       "      <td>Honda</td>\n",
       "      <td>City 2017-2020 EXi</td>\n",
       "      <td>1497 CC</td>\n",
       "      <td>Petrol</td>\n",
       "      <td>78 bhp</td>\n",
       "      <td>1880.952381</td>\n",
       "      <td>Manual</td>\n",
       "      <td>2006</td>\n",
       "      <td>158000</td>\n",
       "      <td>140000</td>\n",
       "      <td>17</td>\n",
       "      <td>17.7 kmpl</td>\n",
       "      <td>5.0</td>\n",
       "    </tr>\n",
       "    <tr>\n",
       "      <th>3</th>\n",
       "      <td>Hyundai</td>\n",
       "      <td>i20 Sportz Diesel</td>\n",
       "      <td>1396 CC</td>\n",
       "      <td>Diesel</td>\n",
       "      <td>90 bhp</td>\n",
       "      <td>2678.571429</td>\n",
       "      <td>Manual</td>\n",
       "      <td>2010</td>\n",
       "      <td>225000</td>\n",
       "      <td>127000</td>\n",
       "      <td>13</td>\n",
       "      <td>23.0 kmpl</td>\n",
       "      <td>5.0</td>\n",
       "    </tr>\n",
       "    <tr>\n",
       "      <th>4</th>\n",
       "      <td>Maruti</td>\n",
       "      <td>Swift VXI BSIII</td>\n",
       "      <td>1298 CC</td>\n",
       "      <td>Petrol</td>\n",
       "      <td>88.2 bhp</td>\n",
       "      <td>1547.619048</td>\n",
       "      <td>Manual</td>\n",
       "      <td>2007</td>\n",
       "      <td>130000</td>\n",
       "      <td>120000</td>\n",
       "      <td>16</td>\n",
       "      <td>16.1 kmpl</td>\n",
       "      <td>5.0</td>\n",
       "    </tr>\n",
       "  </tbody>\n",
       "</table>\n",
       "</div>"
      ],
      "text/plain": [
       "  MANUFACTURER                  MODELE   ENGINE    FUEL   MAX_POWER  \\\n",
       "0       Maruti         Swift Dzire VDI  1248 CC  Diesel      74 bhp   \n",
       "1        Skoda  Rapid 1.5 TDI Ambition  1498 CC  Diesel  103.52 bhp   \n",
       "2        Honda      City 2017-2020 EXi  1497 CC  Petrol      78 bhp   \n",
       "3      Hyundai       i20 Sportz Diesel  1396 CC  Diesel      90 bhp   \n",
       "4       Maruti         Swift VXI BSIII  1298 CC  Petrol    88.2 bhp   \n",
       "\n",
       "   SELLING_PRICE_USD TRANSMISSION  YEAR  SELLING_PRICE  KM_DRIVEN  CAR_AGE  \\\n",
       "0        5357.142857       Manual  2014         450000     145500        9   \n",
       "1        4404.761905       Manual  2014         370000     120000        9   \n",
       "2        1880.952381       Manual  2006         158000     140000       17   \n",
       "3        2678.571429       Manual  2010         225000     127000       13   \n",
       "4        1547.619048       Manual  2007         130000     120000       16   \n",
       "\n",
       "      MILEAGE  SEATS  \n",
       "0   23.4 kmpl    5.0  \n",
       "1  21.14 kmpl    5.0  \n",
       "2   17.7 kmpl    5.0  \n",
       "3   23.0 kmpl    5.0  \n",
       "4   16.1 kmpl    5.0  "
      ]
     },
     "execution_count": 9,
     "metadata": {},
     "output_type": "execute_result"
    }
   ],
   "source": [
    "car = read_Csv_Jupyter('Car Dehko.csv')\n",
    "car.head()\n"
   ]
  },
  {
   "cell_type": "code",
   "execution_count": 10,
   "metadata": {},
   "outputs": [
    {
     "data": {
      "text/plain": [
       "MANUFACTURER           0\n",
       "MODELE                 0\n",
       "ENGINE               221\n",
       "FUEL                   0\n",
       "MAX_POWER            215\n",
       "SELLING_PRICE_USD      0\n",
       "TRANSMISSION           0\n",
       "YEAR                   0\n",
       "SELLING_PRICE          0\n",
       "KM_DRIVEN              0\n",
       "CAR_AGE                0\n",
       "MILEAGE              221\n",
       "SEATS                221\n",
       "dtype: int64"
      ]
     },
     "execution_count": 10,
     "metadata": {},
     "output_type": "execute_result"
    }
   ],
   "source": [
    "#Check if the dataFrame is clean of NaN value\n",
    "car.isnull().sum()"
   ]
  },
  {
   "cell_type": "code",
   "execution_count": 11,
   "metadata": {},
   "outputs": [
    {
     "name": "stdout",
     "output_type": "stream",
     "text": [
      "Median is = 450000.0\n"
     ]
    }
   ],
   "source": [
    "selling_price_usd = np.array(car[\"SELLING_PRICE\"])\n",
    "print(\"Median is =\", np.median(selling_price_usd))"
   ]
  },
  {
   "cell_type": "code",
   "execution_count": 12,
   "metadata": {},
   "outputs": [
    {
     "data": {
      "text/plain": [
       "(8128, 13)"
      ]
     },
     "execution_count": 12,
     "metadata": {},
     "output_type": "execute_result"
    }
   ],
   "source": [
    "#Check All the data available\n",
    "car.shape"
   ]
  },
  {
   "cell_type": "code",
   "execution_count": 13,
   "metadata": {},
   "outputs": [
    {
     "data": {
      "text/html": [
       "<div>\n",
       "<style scoped>\n",
       "    .dataframe tbody tr th:only-of-type {\n",
       "        vertical-align: middle;\n",
       "    }\n",
       "\n",
       "    .dataframe tbody tr th {\n",
       "        vertical-align: top;\n",
       "    }\n",
       "\n",
       "    .dataframe thead th {\n",
       "        text-align: right;\n",
       "    }\n",
       "</style>\n",
       "<table border=\"1\" class=\"dataframe\">\n",
       "  <thead>\n",
       "    <tr style=\"text-align: right;\">\n",
       "      <th></th>\n",
       "      <th>SELLING_PRICE_USD</th>\n",
       "      <th>YEAR</th>\n",
       "      <th>SELLING_PRICE</th>\n",
       "      <th>KM_DRIVEN</th>\n",
       "      <th>CAR_AGE</th>\n",
       "      <th>SEATS</th>\n",
       "    </tr>\n",
       "  </thead>\n",
       "  <tbody>\n",
       "    <tr>\n",
       "      <th>count</th>\n",
       "      <td>8128.000000</td>\n",
       "      <td>8128.000000</td>\n",
       "      <td>8.128000e+03</td>\n",
       "      <td>8.128000e+03</td>\n",
       "      <td>8128.000000</td>\n",
       "      <td>7907.000000</td>\n",
       "    </tr>\n",
       "    <tr>\n",
       "      <th>mean</th>\n",
       "      <td>7598.473901</td>\n",
       "      <td>2013.804011</td>\n",
       "      <td>6.382718e+05</td>\n",
       "      <td>6.981951e+04</td>\n",
       "      <td>9.195989</td>\n",
       "      <td>5.416719</td>\n",
       "    </tr>\n",
       "    <tr>\n",
       "      <th>std</th>\n",
       "      <td>9598.254804</td>\n",
       "      <td>4.044249</td>\n",
       "      <td>8.062534e+05</td>\n",
       "      <td>5.655055e+04</td>\n",
       "      <td>4.044249</td>\n",
       "      <td>0.959588</td>\n",
       "    </tr>\n",
       "    <tr>\n",
       "      <th>min</th>\n",
       "      <td>357.130952</td>\n",
       "      <td>1983.000000</td>\n",
       "      <td>2.999900e+04</td>\n",
       "      <td>1.000000e+00</td>\n",
       "      <td>3.000000</td>\n",
       "      <td>2.000000</td>\n",
       "    </tr>\n",
       "    <tr>\n",
       "      <th>25%</th>\n",
       "      <td>3035.702381</td>\n",
       "      <td>2011.000000</td>\n",
       "      <td>2.549990e+05</td>\n",
       "      <td>3.500000e+04</td>\n",
       "      <td>6.000000</td>\n",
       "      <td>5.000000</td>\n",
       "    </tr>\n",
       "    <tr>\n",
       "      <th>50%</th>\n",
       "      <td>5357.142857</td>\n",
       "      <td>2015.000000</td>\n",
       "      <td>4.500000e+05</td>\n",
       "      <td>6.000000e+04</td>\n",
       "      <td>8.000000</td>\n",
       "      <td>5.000000</td>\n",
       "    </tr>\n",
       "    <tr>\n",
       "      <th>75%</th>\n",
       "      <td>8035.714286</td>\n",
       "      <td>2017.000000</td>\n",
       "      <td>6.750000e+05</td>\n",
       "      <td>9.800000e+04</td>\n",
       "      <td>12.000000</td>\n",
       "      <td>5.000000</td>\n",
       "    </tr>\n",
       "    <tr>\n",
       "      <th>max</th>\n",
       "      <td>119047.619048</td>\n",
       "      <td>2020.000000</td>\n",
       "      <td>1.000000e+07</td>\n",
       "      <td>2.360457e+06</td>\n",
       "      <td>40.000000</td>\n",
       "      <td>14.000000</td>\n",
       "    </tr>\n",
       "  </tbody>\n",
       "</table>\n",
       "</div>"
      ],
      "text/plain": [
       "       SELLING_PRICE_USD         YEAR  SELLING_PRICE     KM_DRIVEN  \\\n",
       "count        8128.000000  8128.000000   8.128000e+03  8.128000e+03   \n",
       "mean         7598.473901  2013.804011   6.382718e+05  6.981951e+04   \n",
       "std          9598.254804     4.044249   8.062534e+05  5.655055e+04   \n",
       "min           357.130952  1983.000000   2.999900e+04  1.000000e+00   \n",
       "25%          3035.702381  2011.000000   2.549990e+05  3.500000e+04   \n",
       "50%          5357.142857  2015.000000   4.500000e+05  6.000000e+04   \n",
       "75%          8035.714286  2017.000000   6.750000e+05  9.800000e+04   \n",
       "max        119047.619048  2020.000000   1.000000e+07  2.360457e+06   \n",
       "\n",
       "           CAR_AGE        SEATS  \n",
       "count  8128.000000  7907.000000  \n",
       "mean      9.195989     5.416719  \n",
       "std       4.044249     0.959588  \n",
       "min       3.000000     2.000000  \n",
       "25%       6.000000     5.000000  \n",
       "50%       8.000000     5.000000  \n",
       "75%      12.000000     5.000000  \n",
       "max      40.000000    14.000000  "
      ]
     },
     "execution_count": 13,
     "metadata": {},
     "output_type": "execute_result"
    }
   ],
   "source": [
    "car.describe()\n",
    "\n",
    "#arrivé a isoler les colonnes souhaitées\n",
    "#car_data.describe(exclude=['year'])"
   ]
  },
  {
   "cell_type": "code",
   "execution_count": 14,
   "metadata": {},
   "outputs": [
    {
     "data": {
      "text/plain": [
       "Index(['MANUFACTURER', 'MODELE', 'ENGINE', 'FUEL', 'MAX_POWER',\n",
       "       'SELLING_PRICE_USD', 'TRANSMISSION', 'YEAR', 'SELLING_PRICE',\n",
       "       'KM_DRIVEN', 'CAR_AGE', 'MILEAGE', 'SEATS'],\n",
       "      dtype='object')"
      ]
     },
     "execution_count": 14,
     "metadata": {},
     "output_type": "execute_result"
    }
   ],
   "source": [
    "car.columns"
   ]
  },
  {
   "cell_type": "code",
   "execution_count": 15,
   "metadata": {},
   "outputs": [
    {
     "name": "stdout",
     "output_type": "stream",
     "text": [
      "<class 'pandas.core.frame.DataFrame'>\n",
      "RangeIndex: 8128 entries, 0 to 8127\n",
      "Data columns (total 13 columns):\n",
      " #   Column             Non-Null Count  Dtype  \n",
      "---  ------             --------------  -----  \n",
      " 0   MANUFACTURER       8128 non-null   object \n",
      " 1   MODELE             8128 non-null   object \n",
      " 2   ENGINE             7907 non-null   object \n",
      " 3   FUEL               8128 non-null   object \n",
      " 4   MAX_POWER          7913 non-null   object \n",
      " 5   SELLING_PRICE_USD  8128 non-null   float64\n",
      " 6   TRANSMISSION       8128 non-null   object \n",
      " 7   YEAR               8128 non-null   int64  \n",
      " 8   SELLING_PRICE      8128 non-null   int64  \n",
      " 9   KM_DRIVEN          8128 non-null   int64  \n",
      " 10  CAR_AGE            8128 non-null   int64  \n",
      " 11  MILEAGE            7907 non-null   object \n",
      " 12  SEATS              7907 non-null   float64\n",
      "dtypes: float64(2), int64(4), object(7)\n",
      "memory usage: 825.6+ KB\n"
     ]
    }
   ],
   "source": [
    "car.info()"
   ]
  },
  {
   "cell_type": "code",
   "execution_count": 16,
   "metadata": {},
   "outputs": [
    {
     "data": {
      "text/plain": [
       "MODELE\n",
       "Swift Dzire VDI                           129\n",
       "Alto 800 LXI                               82\n",
       "Alto LXi                                   71\n",
       "X4 M Sport X xDrive20d                     62\n",
       "Swift VDI                                  61\n",
       "                                         ... \n",
       "Fabia 1.4 TDI Ambiente                      1\n",
       "Scorpio VLX 2WD AT BSIII                    1\n",
       "KWID Climber 1.0 AMT                        1\n",
       "XUV300 W8 Option Dual Tone Diesel BSIV      1\n",
       "Innova 2.5 GX (Diesel) 8 Seater BS IV       1\n",
       "Name: count, Length: 2058, dtype: int64"
      ]
     },
     "execution_count": 16,
     "metadata": {},
     "output_type": "execute_result"
    }
   ],
   "source": [
    "car[\"MODELE\"].value_counts()"
   ]
  },
  {
   "cell_type": "code",
   "execution_count": 17,
   "metadata": {},
   "outputs": [
    {
     "data": {
      "text/plain": [
       "MANUFACTURER\n",
       "Maruti           2448\n",
       "Hyundai          1415\n",
       "Mahindra          772\n",
       "Tata              734\n",
       "Toyota            488\n",
       "Honda             467\n",
       "Ford              397\n",
       "Chevrolet         230\n",
       "Renault           228\n",
       "Volkswagen        186\n",
       "BMW               120\n",
       "Skoda             105\n",
       "Nissan             81\n",
       "Jaguar             71\n",
       "Volvo              67\n",
       "Datsun             65\n",
       "Mercedes-Benz      54\n",
       "Fiat               47\n",
       "Audi               40\n",
       "Lexus              34\n",
       "Jeep               31\n",
       "Mitsubishi         14\n",
       "Force               6\n",
       "Land                6\n",
       "Isuzu               5\n",
       "Kia                 4\n",
       "Ambassador          4\n",
       "Daewoo              3\n",
       "MG                  3\n",
       "Ashok               1\n",
       "Opel                1\n",
       "Peugeot             1\n",
       "Name: count, dtype: int64"
      ]
     },
     "execution_count": 17,
     "metadata": {},
     "output_type": "execute_result"
    }
   ],
   "source": [
    "car[\"MANUFACTURER\"].value_counts()"
   ]
  },
  {
   "cell_type": "code",
   "execution_count": 18,
   "metadata": {},
   "outputs": [
    {
     "name": "stdout",
     "output_type": "stream",
     "text": [
      "Fuel used 'Diesel': 4402\n",
      "Fuel used 'Petrol': 3631\n",
      "Fuel used 'LPG': 38\n",
      "Fuel used 'CNG': 57\n"
     ]
    }
   ],
   "source": [
    "fuel = car[\"FUEL\"].unique()\n",
    "\n",
    "for f in fuel:\n",
    "    count = sum(car[\"FUEL\"] == f)\n",
    "    print(f\"Fuel used '{f}': {count}\")\n"
   ]
  },
  {
   "cell_type": "code",
   "execution_count": 19,
   "metadata": {},
   "outputs": [
    {
     "data": {
      "image/png": "[encoded data removed]",
      "text/plain": [
       "<Figure size 1200x600 with 1 Axes>"
      ]
     },
     "metadata": {},
     "output_type": "display_data"
    }
   ],
   "source": [
    "car_fuel_year = car[car[\"YEAR\"] >= 2010].groupby(['YEAR', 'FUEL']).size().unstack()\n",
    "\n",
    "car_fuel_year.plot(kind='bar', stacked=False, figsize=(12, 6))\n",
    "#plt.xlabel('Année')\n",
    "plt.ylabel('Number of Cars')\n",
    "plt.title('Cars by fuel')\n",
    "plt.legend(title='Fuel')\n",
    "plt.show()\n"
   ]
  },
  {
   "cell_type": "code",
   "execution_count": 20,
   "metadata": {},
   "outputs": [
    {
     "data": {
      "image/png": "[encoded data removed]",
      "text/plain": [
       "<Figure size 640x480 with 1 Axes>"
      ]
     },
     "metadata": {},
     "output_type": "display_data"
    }
   ],
   "source": [
    "car_per_year = car[car[\"YEAR\"] >= 2010][\"YEAR\"].value_counts()\n",
    "\n",
    "# Creation of the graphique\n",
    "plt.bar(car_per_year.index, car_per_year.values)\n",
    "#plt.xlabel('Year')\n",
    "#plt.ylabel('Number')\n",
    "plt.title('Cars on Sale by Year')\n",
    "plt.xticks(rotation=0)  \n",
    "plt.show()"
   ]
  },
  {
   "cell_type": "code",
   "execution_count": 44,
   "metadata": {},
   "outputs": [
    {
     "data": {
      "image/png": "[encoded data removed]",
      "text/plain": [
       "<Figure size 1000x600 with 1 Axes>"
      ]
     },
     "metadata": {},
     "output_type": "display_data"
    }
   ],
   "source": [
    "median_price_year = car[car['YEAR'] >= 2010].groupby('YEAR')['SELLING_PRICE'].mean()\n",
    " \n",
    "#Graphique of the prices\n",
    "plt.figure(figsize=(10, 6))\n",
    "plt.plot(median_price_year.index, median_price_year.values, marker='s', color='blue')\n",
    "plt.title('Median Price per Year')\n",
    "#plt.xlabel('Année')\n",
    "#plt.ylabel('Prix Moyen du marché')\n",
    "plt.grid(True)\n",
    "plt.show()\n",
    "\n",
    "#save = save_Flask('histogramme.png')"
   ]
  }
 ],
 "metadata": {
  "kernelspec": {
   "display_name": "car_projet_env",
   "language": "python",
   "name": "python3"
  },
  "language_info": {
   "codemirror_mode": {
    "name": "ipython",
    "version": 3
   },
   "file_extension": ".py",
   "mimetype": "text/x-python",
   "name": "python",
   "nbconvert_exporter": "python",
   "pygments_lexer": "ipython3",
   "version": "3.11.4"
  },
  "orig_nbformat": 4
 },
 "nbformat": 4,
 "nbformat_minor": 2
}
